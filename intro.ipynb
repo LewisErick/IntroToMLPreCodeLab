{
 "cells": [
  {
   "cell_type": "code",
   "execution_count": 38,
   "metadata": {
    "collapsed": true
   },
   "outputs": [],
   "source": [
    "# *Intro to ML Pre Codelab*\n",
    "# Objectives:\n",
    "# > By running this codelab successfully you'll be able to take the Intro to ML class on Thursday.\n",
    "# > Learn about the basic algorithms used for ML, how they work and how they can be implemented in Python.\n",
    "#\n",
    "# Minimum Knowledge Required:\n",
    "# > Basic Git (you can check http://rogerdudler.github.io/git-guide/)\n",
    "# > You don't need to understand Python or ML :^)\n",
    "\n",
    "import numpy as np\n",
    "import sklearn as sk # This part is not used in the Pre Code Lab but will be necessary for the Intro"
   ]
  },
  {
   "cell_type": "code",
   "execution_count": 39,
   "metadata": {},
   "outputs": [
    {
     "name": "stdout",
     "output_type": "stream",
     "text": [
      "[[ 1  4  7]\n",
      " [ 2  7  8]\n",
      " [ 3  6 10]]\n"
     ]
    }
   ],
   "source": [
    "# Basic Knowledge Needed - Linear Algebra\n",
    "\n",
    "# *Matrix operations*\n",
    "# Oh no! The data input has some errors (what a surprise) and we need to change some values in the matrix.\n",
    "# Let's first create the wrong matrix:\n",
    "\n",
    "faulty_matrix = np.matrix([[1, 4, 7], [2, 7, 8], [3, 6, 10]])\n",
    "\n",
    "print(faulty_matrix)"
   ]
  },
  {
   "cell_type": "code",
   "execution_count": 40,
   "metadata": {},
   "outputs": [
    {
     "name": "stdout",
     "output_type": "stream",
     "text": [
      "[[1 4 7]\n",
      " [2 5 8]\n",
      " [3 6 9]]\n"
     ]
    }
   ],
   "source": [
    "# Now let's fix this matrix.\n",
    "faulty_matrix[1,1] = 5\n",
    "faulty_matrix[2,2] = 9\n",
    "\n",
    "print(faulty_matrix)"
   ]
  },
  {
   "cell_type": "code",
   "execution_count": 41,
   "metadata": {},
   "outputs": [
    {
     "name": "stdout",
     "output_type": "stream",
     "text": [
      "[[1 2 3]\n",
      " [4 5 6]\n",
      " [7 8 9]]\n"
     ]
    }
   ],
   "source": [
    "# Beautiful. But oh no! We want the 1, 2, 3 to be in the first row, not the first column! What should we do?\n",
    "# Thankfully, we have the transpose function.\n",
    "correct_matrix = np.transpose(faulty_matrix)\n",
    "\n",
    "print(correct_matrix)"
   ]
  },
  {
   "cell_type": "code",
   "execution_count": 42,
   "metadata": {},
   "outputs": [
    {
     "name": "stdout",
     "output_type": "stream",
     "text": [
      "[[2 3]\n",
      " [5 6]]\n"
     ]
    }
   ],
   "source": [
    "# Let's say your friend Bob just asked you to give him numbers 1 to 6 excluding 1 and 4. One way to do this would be:\n",
    "print(correct_matrix[0:2,1:3])"
   ]
  },
  {
   "cell_type": "code",
   "execution_count": 35,
   "metadata": {
    "collapsed": true
   },
   "outputs": [],
   "source": [
    "# Now that's a weird request, but finally your friend Bob is happy. See you on Thursday!"
   ]
  }
 ],
 "metadata": {
  "kernelspec": {
   "display_name": "Python 2",
   "language": "python",
   "name": "python2"
  },
  "language_info": {
   "codemirror_mode": {
    "name": "ipython",
    "version": 2
   },
   "file_extension": ".py",
   "mimetype": "text/x-python",
   "name": "python",
   "nbconvert_exporter": "python",
   "pygments_lexer": "ipython2",
   "version": "2.7.12"
  }
 },
 "nbformat": 4,
 "nbformat_minor": 2
}
